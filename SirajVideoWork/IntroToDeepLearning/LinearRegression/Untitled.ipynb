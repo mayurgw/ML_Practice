{
 "cells": [
  {
   "cell_type": "code",
   "execution_count": 23,
   "metadata": {
    "collapsed": false
   },
   "outputs": [],
   "source": [
    "import numpy as np\n",
    "import matplotlib.pyplot as plt\n",
    "\n",
    "def run():\n",
    "    mainData=np.genfromtxt('data.csv',dtype=None,delimiter=\",\")\n",
    "    X_data=mainData[0]\n",
    "    Y_data=mainData[1]\n",
    "    hl, = plt.plot(X_data, Y_data)\n",
    "    \n",
    "    b_initial=0.0\n",
    "    m_initial=0.0\n",
    "\n",
    "    #hyperParam\n",
    "    noOfIter=1000\n",
    "    learningRate=0.001\n",
    "    print(\"initial values for b={0}, m={1}, err={2}\".format(b_initial,m_initial,calc_error(X_data,Y_data,b_initial,m_initial)))\n",
    "    [b,m]=train(X_data,Y_data,b_initial,m_initial,noOfIter,learningRate)\n",
    "    \n",
    "    print(\"final values for b={0}, m={1}, err={2}\".format(b,m,calc_error(X_data,Y_data,b,m)))\n",
    "    update_line(hl)"
   ]
  },
  {
   "cell_type": "code",
   "execution_count": 24,
   "metadata": {
    "collapsed": true
   },
   "outputs": [],
   "source": [
    "def calc_error(X,Y,b,m):\n",
    "    err=0.0\n",
    "    N=len(X)\n",
    "    for i in range(0,N):\n",
    "        err+=(Y[i]-(m*X[i]+b))**2\n",
    "    err=err/N\n",
    "    return err\n",
    "        "
   ]
  },
  {
   "cell_type": "code",
   "execution_count": 25,
   "metadata": {
    "collapsed": true
   },
   "outputs": [],
   "source": [
    "def train(X,Y,b,m,noOfIter,LR):\n",
    "    for i in range(0,noOfIter):\n",
    "        [b,m]=updateWeights(X,Y,b,m,LR)\n",
    "        \n",
    "    return [b,m]"
   ]
  },
  {
   "cell_type": "code",
   "execution_count": 26,
   "metadata": {
    "collapsed": true
   },
   "outputs": [],
   "source": [
    "def updateWeights(X,Y,b,m,LR):\n",
    "    N=len(X)\n",
    "    for i in range(0,len(X)):\n",
    "        b+=2*(Y[i]-(m*X[i]+b))*LR*(1/N)\n",
    "        m+=2*X[i]*(Y[i]-(m*X[i]+b))*LR*(1/N)\n",
    "    return [b,m]"
   ]
  },
  {
   "cell_type": "code",
   "execution_count": 32,
   "metadata": {
    "collapsed": false
   },
   "outputs": [],
   "source": [
    "def update_line(hl):\n",
    "    print(hl.get_xdata())\n",
    "    print(hl.get_ydata())\n",
    "    hl.set_xdata(hl.get_xdata())\n",
    "    hl.set_ydata(hl.get_ydata())\n",
    "    print (\"yo\")\n",
    "    plt.draw()"
   ]
  },
  {
   "cell_type": "code",
   "execution_count": 33,
   "metadata": {
    "collapsed": false
   },
   "outputs": [
    {
     "name": "stdout",
     "output_type": "stream",
     "text": [
      "initial values for b=0.0, m=0.0, err=3792.3905491117625\n",
      "final values for b=0.49687723978818765, m=2.1564461901719127, err=147.23087530545686\n",
      "[ 32.50234527  31.70700585]\n",
      "[ 53.42680403  68.77759598]\n",
      "yo\n"
     ]
    }
   ],
   "source": [
    "if __name__ == '__main__':\n",
    "\trun()"
   ]
  },
  {
   "cell_type": "code",
   "execution_count": null,
   "metadata": {
    "collapsed": true
   },
   "outputs": [],
   "source": []
  }
 ],
 "metadata": {
  "kernelspec": {
   "display_name": "Python 3",
   "language": "python",
   "name": "python3"
  },
  "language_info": {
   "codemirror_mode": {
    "name": "ipython",
    "version": 3
   },
   "file_extension": ".py",
   "mimetype": "text/x-python",
   "name": "python",
   "nbconvert_exporter": "python",
   "pygments_lexer": "ipython3",
   "version": "3.6.0"
  }
 },
 "nbformat": 4,
 "nbformat_minor": 2
}
